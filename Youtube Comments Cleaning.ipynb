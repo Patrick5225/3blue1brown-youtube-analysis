{
 "cells": [
  {
   "cell_type": "markdown",
   "metadata": {},
   "source": [
    "# <center> Cleaning Youtube Comments.csv </center>"
   ]
  },
  {
   "cell_type": "markdown",
   "metadata": {},
   "source": [
    "This notebook aims to inspect the youtube_comments.csv file and clean the dataset, if necessary."
   ]
  },
  {
   "cell_type": "code",
   "execution_count": 1,
   "metadata": {},
   "outputs": [],
   "source": [
    "import pandas as pd"
   ]
  },
  {
   "cell_type": "code",
   "execution_count": 2,
   "metadata": {},
   "outputs": [],
   "source": [
    "df = pd.read_csv('data/youtube_comments.csv', encoding='ISO-8859-1')"
   ]
  },
  {
   "cell_type": "code",
   "execution_count": 3,
   "metadata": {},
   "outputs": [
    {
     "data": {
      "text/html": [
       "<div>\n",
       "<style scoped>\n",
       "    .dataframe tbody tr th:only-of-type {\n",
       "        vertical-align: middle;\n",
       "    }\n",
       "\n",
       "    .dataframe tbody tr th {\n",
       "        vertical-align: top;\n",
       "    }\n",
       "\n",
       "    .dataframe thead th {\n",
       "        text-align: right;\n",
       "    }\n",
       "</style>\n",
       "<table border=\"1\" class=\"dataframe\">\n",
       "  <thead>\n",
       "    <tr style=\"text-align: right;\">\n",
       "      <th></th>\n",
       "      <th>videoId</th>\n",
       "      <th>commentId</th>\n",
       "      <th>comment</th>\n",
       "      <th>authorName</th>\n",
       "      <th>authorId</th>\n",
       "      <th>likeCount</th>\n",
       "      <th>date</th>\n",
       "      <th>totalReplyCount</th>\n",
       "    </tr>\n",
       "  </thead>\n",
       "  <tbody>\n",
       "    <tr>\n",
       "      <th>0</th>\n",
       "      <td>lG4VkPoG3ko</td>\n",
       "      <td>Ugycx5y6oJzjxAt7AUB4AaABAg</td>\n",
       "      <td>I am a grad student in a mathematics-heavy fie...</td>\n",
       "      <td>Jamie</td>\n",
       "      <td>UCR9GVvuF4uEIw3EEIYZ4l_g</td>\n",
       "      <td>0.0</td>\n",
       "      <td>2021-02-17 03:46:35+00:00</td>\n",
       "      <td>0.0</td>\n",
       "    </tr>\n",
       "    <tr>\n",
       "      <th>1</th>\n",
       "      <td>lG4VkPoG3ko</td>\n",
       "      <td>UgwcSC6h7lidOETckkB4AaABAg</td>\n",
       "      <td>Iâm just here because I looked up my last na...</td>\n",
       "      <td>Christopher Bayes</td>\n",
       "      <td>UCVftL6EUiUndgwUVumjBfsA</td>\n",
       "      <td>0.0</td>\n",
       "      <td>2021-02-17 02:50:46+00:00</td>\n",
       "      <td>0.0</td>\n",
       "    </tr>\n",
       "    <tr>\n",
       "      <th>2</th>\n",
       "      <td>lG4VkPoG3ko</td>\n",
       "      <td>UgzclhYYZ1xzrNn2y754AaABAg</td>\n",
       "      <td>Im searching for the Origin of a quote, and i ...</td>\n",
       "      <td>Moritz Roos</td>\n",
       "      <td>UCfj8n_LBuzPMPNdGmGeBjXw</td>\n",
       "      <td>0.0</td>\n",
       "      <td>2021-02-16 23:54:31+00:00</td>\n",
       "      <td>0.0</td>\n",
       "    </tr>\n",
       "    <tr>\n",
       "      <th>3</th>\n",
       "      <td>lG4VkPoG3ko</td>\n",
       "      <td>UgzvF8bgbgJxSRC7pAd4AaABAg</td>\n",
       "      <td>Why there is no exact formula for finding the ...</td>\n",
       "      <td>BIDISH DAS</td>\n",
       "      <td>UCLvYFzMHxPeDZNevr0eKvRQ</td>\n",
       "      <td>0.0</td>\n",
       "      <td>2021-02-15 21:14:54+00:00</td>\n",
       "      <td>0.0</td>\n",
       "    </tr>\n",
       "    <tr>\n",
       "      <th>4</th>\n",
       "      <td>lG4VkPoG3ko</td>\n",
       "      <td>UgyKJG7KQVbfAjA4ip14AaABAg</td>\n",
       "      <td>a nice and neat fishing web! (and a metaphor xD)</td>\n",
       "      <td>Yu Gu</td>\n",
       "      <td>UC0MUvfY8QG02G5mNBNZyQVg</td>\n",
       "      <td>0.0</td>\n",
       "      <td>2021-02-15 12:24:37+00:00</td>\n",
       "      <td>0.0</td>\n",
       "    </tr>\n",
       "  </tbody>\n",
       "</table>\n",
       "</div>"
      ],
      "text/plain": [
       "       videoId                   commentId  \\\n",
       "0  lG4VkPoG3ko  Ugycx5y6oJzjxAt7AUB4AaABAg   \n",
       "1  lG4VkPoG3ko  UgwcSC6h7lidOETckkB4AaABAg   \n",
       "2  lG4VkPoG3ko  UgzclhYYZ1xzrNn2y754AaABAg   \n",
       "3  lG4VkPoG3ko  UgzvF8bgbgJxSRC7pAd4AaABAg   \n",
       "4  lG4VkPoG3ko  UgyKJG7KQVbfAjA4ip14AaABAg   \n",
       "\n",
       "                                             comment         authorName  \\\n",
       "0  I am a grad student in a mathematics-heavy fie...              Jamie   \n",
       "1  Iâm just here because I looked up my last na...  Christopher Bayes   \n",
       "2  Im searching for the Origin of a quote, and i ...        Moritz Roos   \n",
       "3  Why there is no exact formula for finding the ...         BIDISH DAS   \n",
       "4   a nice and neat fishing web! (and a metaphor xD)              Yu Gu   \n",
       "\n",
       "                   authorId  likeCount                       date  \\\n",
       "0  UCR9GVvuF4uEIw3EEIYZ4l_g        0.0  2021-02-17 03:46:35+00:00   \n",
       "1  UCVftL6EUiUndgwUVumjBfsA        0.0  2021-02-17 02:50:46+00:00   \n",
       "2  UCfj8n_LBuzPMPNdGmGeBjXw        0.0  2021-02-16 23:54:31+00:00   \n",
       "3  UCLvYFzMHxPeDZNevr0eKvRQ        0.0  2021-02-15 21:14:54+00:00   \n",
       "4  UC0MUvfY8QG02G5mNBNZyQVg        0.0  2021-02-15 12:24:37+00:00   \n",
       "\n",
       "   totalReplyCount  \n",
       "0              0.0  \n",
       "1              0.0  \n",
       "2              0.0  \n",
       "3              0.0  \n",
       "4              0.0  "
      ]
     },
     "execution_count": 3,
     "metadata": {},
     "output_type": "execute_result"
    }
   ],
   "source": [
    "df.head()"
   ]
  },
  {
   "cell_type": "code",
   "execution_count": 4,
   "metadata": {},
   "outputs": [
    {
     "data": {
      "text/html": [
       "<div>\n",
       "<style scoped>\n",
       "    .dataframe tbody tr th:only-of-type {\n",
       "        vertical-align: middle;\n",
       "    }\n",
       "\n",
       "    .dataframe tbody tr th {\n",
       "        vertical-align: top;\n",
       "    }\n",
       "\n",
       "    .dataframe thead th {\n",
       "        text-align: right;\n",
       "    }\n",
       "</style>\n",
       "<table border=\"1\" class=\"dataframe\">\n",
       "  <thead>\n",
       "    <tr style=\"text-align: right;\">\n",
       "      <th></th>\n",
       "      <th>likeCount</th>\n",
       "      <th>totalReplyCount</th>\n",
       "    </tr>\n",
       "  </thead>\n",
       "  <tbody>\n",
       "    <tr>\n",
       "      <th>count</th>\n",
       "      <td>166971.000000</td>\n",
       "      <td>166949.000000</td>\n",
       "    </tr>\n",
       "    <tr>\n",
       "      <th>mean</th>\n",
       "      <td>13.404903</td>\n",
       "      <td>0.469670</td>\n",
       "    </tr>\n",
       "    <tr>\n",
       "      <th>std</th>\n",
       "      <td>200.606229</td>\n",
       "      <td>3.349839</td>\n",
       "    </tr>\n",
       "    <tr>\n",
       "      <th>min</th>\n",
       "      <td>0.000000</td>\n",
       "      <td>0.000000</td>\n",
       "    </tr>\n",
       "    <tr>\n",
       "      <th>25%</th>\n",
       "      <td>0.000000</td>\n",
       "      <td>0.000000</td>\n",
       "    </tr>\n",
       "    <tr>\n",
       "      <th>50%</th>\n",
       "      <td>0.000000</td>\n",
       "      <td>0.000000</td>\n",
       "    </tr>\n",
       "    <tr>\n",
       "      <th>75%</th>\n",
       "      <td>0.000000</td>\n",
       "      <td>0.000000</td>\n",
       "    </tr>\n",
       "    <tr>\n",
       "      <th>max</th>\n",
       "      <td>26723.000000</td>\n",
       "      <td>328.000000</td>\n",
       "    </tr>\n",
       "  </tbody>\n",
       "</table>\n",
       "</div>"
      ],
      "text/plain": [
       "           likeCount  totalReplyCount\n",
       "count  166971.000000    166949.000000\n",
       "mean       13.404903         0.469670\n",
       "std       200.606229         3.349839\n",
       "min         0.000000         0.000000\n",
       "25%         0.000000         0.000000\n",
       "50%         0.000000         0.000000\n",
       "75%         0.000000         0.000000\n",
       "max     26723.000000       328.000000"
      ]
     },
     "execution_count": 4,
     "metadata": {},
     "output_type": "execute_result"
    }
   ],
   "source": [
    "df.describe()"
   ]
  },
  {
   "cell_type": "code",
   "execution_count": 5,
   "metadata": {},
   "outputs": [
    {
     "name": "stdout",
     "output_type": "stream",
     "text": [
      "<class 'pandas.core.frame.DataFrame'>\n",
      "RangeIndex: 166995 entries, 0 to 166994\n",
      "Data columns (total 8 columns):\n",
      " #   Column           Non-Null Count   Dtype  \n",
      "---  ------           --------------   -----  \n",
      " 0   videoId          166995 non-null  object \n",
      " 1   commentId        166993 non-null  object \n",
      " 2   comment          166992 non-null  object \n",
      " 3   authorName       166962 non-null  object \n",
      " 4   authorId         166971 non-null  object \n",
      " 5   likeCount        166971 non-null  float64\n",
      " 6   date             166949 non-null  object \n",
      " 7   totalReplyCount  166949 non-null  float64\n",
      "dtypes: float64(2), object(6)\n",
      "memory usage: 10.2+ MB\n"
     ]
    }
   ],
   "source": [
    "df.info()"
   ]
  },
  {
   "cell_type": "code",
   "execution_count": 6,
   "metadata": {},
   "outputs": [
    {
     "data": {
      "text/plain": [
       "videoId             0\n",
       "commentId           2\n",
       "comment             3\n",
       "authorName         33\n",
       "authorId           24\n",
       "likeCount          24\n",
       "date               46\n",
       "totalReplyCount    46\n",
       "dtype: int64"
      ]
     },
     "execution_count": 6,
     "metadata": {},
     "output_type": "execute_result"
    }
   ],
   "source": [
    "df.isna().sum()"
   ]
  },
  {
   "cell_type": "markdown",
   "metadata": {},
   "source": [
    "There are some missing values in our dataset. Before we look into these, I wanted to check if there were values in the videoId field that are invalid. Apparently there are some values that look like comments and shouldn't belong in this field."
   ]
  },
  {
   "cell_type": "code",
   "execution_count": 7,
   "metadata": {},
   "outputs": [
    {
     "data": {
      "text/plain": [
       "array(['lG4VkPoG3ko', 'b3NxrZOu_CE', 'X8jsijhllIA', 'mH0oCDa74tE',\n",
       "       ' WHO DEVELOPED GROUP THEORY BEING IN A PRISON AND DIED AT AGE OF JUST 20.',\n",
       "       'wTJI_WuZSwE',\n",
       "       ' and Amy Fowler? I thought they already tied the knot.',\n",
       "       'QvuQH4_05LI', 'pq9LcwC7CoY', 'D__UaR5MQao', 'elQVZLLiod4',\n",
       "       '4PDoT7jtxmw', 'cEvgcoyZvB4', 'IAEASE5GjdI', 'ZxYOEwM6Wbk',\n",
       "       '5PcpBw5Hbwo', 'yBw67Fb31Cs', 'MHXO86wKeDY', 'ppWPuXsnf1Q',\n",
       "       'privileged if you are learning Math for the first time with this cutiepie',\n",
       "       'ZA4JkHKZM50', 'gxAaO2rsdIs', '8idr1WZ1A7Q', 'Kas0tIxDvrg',\n",
       "       ' It takes about 13.0 doublings to get from 1 to 7993. It takes only about 12.6 doublings to get from 7993 to 50000000. 7993 is the current worldwide count of coronavirus deaths according the live update on Roylab Stats channel.',\n",
       "       'U_85TaXbeIo', 'HZGCoVF3YvM', 'Agbh95KyWxY', 'EK32jo7i5LQ',\n",
       "       'M64HUIJFTZM', '1Pivot.', 'v0YEaeIClKY', '#NAME?', 'r6sGWTCMz2k',\n",
       "       ' has a similar explanation.', 'ToIXSwZ1pJU', 'ly4S0oi3Yz8',\n",
       "       'p_di4Zn4wz4', 'jBsC34PxzoM', 'brU5yLm9DZM', 'jsYwFizhncE',\n",
       "       'HEfHFsfGXjs',\n",
       "       'who has heterochromia (3 blue 1 brown - 4/4) in the left eye??? ',\n",
       "       'or he owns the channel or itâ\\x80\\x99s a huge coincidence', '!',\n",
       "       ' :o', 'GNcFjFmqEc8', 'yuVqxCSsE7c', '_UoTTq651dE', 'zjMuIxRvygQ',\n",
       "       'd4EgbgTm0Bg', 'Qe6o9j4IjTo', 'pQa_tWZmlGs', 'VcgJro0sTiM',\n",
       "       'rB83DpBJQsE', 'CfW845LNObM', '8GPy_UMV-08', 'b7FxPsqfkOY',\n",
       "       'bcPTiiiYDs8', 'd-o3eB9sfls', 'MBnnXbOM5S4', 'spUNpyF58BY',\n",
       "       'VvCytJvd4H0', 'liL66CApESk', 'OkmNXy7er84', '.', 'tIeHLnjs5U8',\n",
       "       'Ilg3gGewQ5U', 'IHZwWFHWa-w', 'aircAruvnKk', 'MzRCDLre1b4',\n",
       "       'zwAD6dRSVyI', 'universe is keep bigger because the ',\n",
       "       'universe with many dimensional?', '3s7h2MHQtxc', 'S9JGmA5_unY',\n",
       "       'bBC-nXj3Ng4',\n",
       "       'spending like the rich yet not investing like the rich',\n",
       "       '  ð\\x9f\\x92\\x95', ' @3Blue1Brown', 'QJYmyhnaaek', 'NaL_Cb42WyY',\n",
       "       '3d6DsjIBzJ4', ' is an alternative', 'BLkz5LGWihw', 'FnJqaIESC2s',\n",
       "       'rfG8ce4nNh0', 'kfF40MiS7zA', 'qb40J4N1fa4', 'm2MIpDrF7Es',\n",
       "       'YG15m2VwSjA', 'S0_qX4VJhMQ', '?',\n",
       "       ' What software did you use to do the animations?', '9vKqVkMQHKk',\n",
       "       'WUvTyaaNkzM', 'mvmuCPvRoWQ', 'gB9n2gHsHN4', 'IxNb1WG_Ido',\n",
       "       'sD0NjbwqlYw',\n",
       "       ' look for the whole explanation and conclusion at the fighsare sit look for the riemann hypothesis solution by luis felipe massena misiec',\n",
       "       'bdMfjfT0lKk', 'R7p-nPg8t_g', '2SUvWfNJSsM', 'AmgkSdhK4K8',\n",
       "       'TgKwz5Ikpc8', 'PFDu9oVAE-g', 'P2LTAUO1TdA', 'BaM7OCEm3G0',\n",
       "       'eu6i7WJeinw', 'LyGKycYT2v0', 'v8VSDg_WQlA', 'uQhTuRlWMxw',\n",
       "       'Ip3X9LOh2dk', 'rHLEWRxRGiM', 'XkY2DOUCWMU', 'kYB8IZa5AuE',\n",
       "       'k7RM-ot2NWY', 'fNk_zzaMoSs', 'physics perspective?',\n",
       "       ' deserves award.', 'kjBOesZCoqc', 'sULa9Lc4pck', 'Iq1a_KJTWJ8',\n",
       "       'Cld0p3a43fU', 'RU0wScIj36o', ' im just dancing to the music',\n",
       "       'cyW5z-M2yzw', '1SMmc9gQmHQ', 'XFDM1ip5HdU', ' 0<p<1. p=/=3',\n",
       "       '-9OUyo8NFZg', 'K8P8uFahAgc', '84hEmGHw3J8', 'zLzLxVeqdQg',\n",
       "       'F_0yfvm0UoU'], dtype=object)"
      ]
     },
     "execution_count": 7,
     "metadata": {},
     "output_type": "execute_result"
    }
   ],
   "source": [
    "df['videoId'].unique()"
   ]
  },
  {
   "cell_type": "markdown",
   "metadata": {},
   "source": [
    "Because of these strange looking values, I opened the csv file on Excel and manually removed rows containing these values. Checking the videoId field again, the values are what we want."
   ]
  },
  {
   "cell_type": "code",
   "execution_count": 11,
   "metadata": {},
   "outputs": [],
   "source": [
    "df = pd.read_csv('data/youtube_comments.csv', encoding='ISO-8859-1')"
   ]
  },
  {
   "cell_type": "code",
   "execution_count": 12,
   "metadata": {
    "scrolled": false
   },
   "outputs": [
    {
     "data": {
      "text/plain": [
       "array(['lG4VkPoG3ko', 'b3NxrZOu_CE', 'X8jsijhllIA', 'mH0oCDa74tE',\n",
       "       'wTJI_WuZSwE', 'QvuQH4_05LI', 'pq9LcwC7CoY', 'D__UaR5MQao',\n",
       "       'elQVZLLiod4', '4PDoT7jtxmw', 'cEvgcoyZvB4', 'IAEASE5GjdI',\n",
       "       'ZxYOEwM6Wbk', '5PcpBw5Hbwo', 'yBw67Fb31Cs', 'MHXO86wKeDY',\n",
       "       'ppWPuXsnf1Q', 'ZA4JkHKZM50', 'gxAaO2rsdIs', '8idr1WZ1A7Q',\n",
       "       'Kas0tIxDvrg', 'U_85TaXbeIo', 'HZGCoVF3YvM', 'Agbh95KyWxY',\n",
       "       'EK32jo7i5LQ', 'M64HUIJFTZM', 'v0YEaeIClKY', '-qgreAUpPwM',\n",
       "       'r6sGWTCMz2k', 'ToIXSwZ1pJU', 'ly4S0oi3Yz8', 'p_di4Zn4wz4',\n",
       "       'jBsC34PxzoM', 'brU5yLm9DZM', 'jsYwFizhncE', 'HEfHFsfGXjs',\n",
       "       'GNcFjFmqEc8', 'yuVqxCSsE7c', '_UoTTq651dE', 'zjMuIxRvygQ',\n",
       "       'd4EgbgTm0Bg', 'Qe6o9j4IjTo', 'pQa_tWZmlGs', 'VcgJro0sTiM',\n",
       "       'rB83DpBJQsE', 'CfW845LNObM', '8GPy_UMV-08', 'b7FxPsqfkOY',\n",
       "       'bcPTiiiYDs8', 'd-o3eB9sfls', 'MBnnXbOM5S4', 'spUNpyF58BY',\n",
       "       'VvCytJvd4H0', 'liL66CApESk', 'OkmNXy7er84', 'tIeHLnjs5U8',\n",
       "       'Ilg3gGewQ5U', 'IHZwWFHWa-w', 'aircAruvnKk', 'MzRCDLre1b4',\n",
       "       'zwAD6dRSVyI', '3s7h2MHQtxc', 'S9JGmA5_unY', 'bBC-nXj3Ng4',\n",
       "       'QJYmyhnaaek', 'NaL_Cb42WyY', '3d6DsjIBzJ4', 'BLkz5LGWihw',\n",
       "       'FnJqaIESC2s', 'rfG8ce4nNh0', 'kfF40MiS7zA', 'qb40J4N1fa4',\n",
       "       'm2MIpDrF7Es', 'YG15m2VwSjA', 'S0_qX4VJhMQ', '9vKqVkMQHKk',\n",
       "       'WUvTyaaNkzM', 'mvmuCPvRoWQ', 'gB9n2gHsHN4', 'IxNb1WG_Ido',\n",
       "       'sD0NjbwqlYw', 'bdMfjfT0lKk', 'R7p-nPg8t_g', '2SUvWfNJSsM',\n",
       "       'AmgkSdhK4K8', 'TgKwz5Ikpc8', 'PFDu9oVAE-g', 'P2LTAUO1TdA',\n",
       "       'BaM7OCEm3G0', 'eu6i7WJeinw', 'LyGKycYT2v0', 'v8VSDg_WQlA',\n",
       "       'uQhTuRlWMxw', 'Ip3X9LOh2dk', 'rHLEWRxRGiM', 'XkY2DOUCWMU',\n",
       "       'kYB8IZa5AuE', 'k7RM-ot2NWY', 'fNk_zzaMoSs', 'kjBOesZCoqc',\n",
       "       'sULa9Lc4pck', 'Iq1a_KJTWJ8', 'Cld0p3a43fU', 'RU0wScIj36o',\n",
       "       'cyW5z-M2yzw', '1SMmc9gQmHQ', 'XFDM1ip5HdU', '-9OUyo8NFZg',\n",
       "       'K8P8uFahAgc', '84hEmGHw3J8', 'zLzLxVeqdQg', 'F_0yfvm0UoU'],\n",
       "      dtype=object)"
      ]
     },
     "execution_count": 12,
     "metadata": {},
     "output_type": "execute_result"
    }
   ],
   "source": [
    "df['videoId'].unique()"
   ]
  },
  {
   "cell_type": "code",
   "execution_count": 21,
   "metadata": {},
   "outputs": [
    {
     "name": "stdout",
     "output_type": "stream",
     "text": [
      "<class 'pandas.core.frame.DataFrame'>\n",
      "RangeIndex: 166971 entries, 0 to 166970\n",
      "Data columns (total 8 columns):\n",
      " #   Column           Non-Null Count   Dtype  \n",
      "---  ------           --------------   -----  \n",
      " 0   videoId          166971 non-null  object \n",
      " 1   commentId        166971 non-null  object \n",
      " 2   comment          166970 non-null  object \n",
      " 3   authorName       166940 non-null  object \n",
      " 4   authorId         166949 non-null  object \n",
      " 5   likeCount        166949 non-null  float64\n",
      " 6   date             166949 non-null  object \n",
      " 7   totalReplyCount  166949 non-null  float64\n",
      "dtypes: float64(2), object(6)\n",
      "memory usage: 10.2+ MB\n"
     ]
    }
   ],
   "source": [
    "df.info()"
   ]
  },
  {
   "cell_type": "code",
   "execution_count": 13,
   "metadata": {},
   "outputs": [
    {
     "data": {
      "text/plain": [
       "videoId             0\n",
       "commentId           0\n",
       "comment             1\n",
       "authorName         31\n",
       "authorId           22\n",
       "likeCount          22\n",
       "date               22\n",
       "totalReplyCount    22\n",
       "dtype: int64"
      ]
     },
     "execution_count": 13,
     "metadata": {},
     "output_type": "execute_result"
    }
   ],
   "source": [
    "df.isna().sum()"
   ]
  },
  {
   "cell_type": "markdown",
   "metadata": {},
   "source": [
    "We are still missing some values in our dataset. Taking a closer look at the rows that are missing authorName, it seems that these rows are also missing the other fields.\n",
    "\n",
    "We will use df.dropna() to drop all rows containing missing values."
   ]
  },
  {
   "cell_type": "code",
   "execution_count": 17,
   "metadata": {},
   "outputs": [
    {
     "data": {
      "text/html": [
       "<div>\n",
       "<style scoped>\n",
       "    .dataframe tbody tr th:only-of-type {\n",
       "        vertical-align: middle;\n",
       "    }\n",
       "\n",
       "    .dataframe tbody tr th {\n",
       "        vertical-align: top;\n",
       "    }\n",
       "\n",
       "    .dataframe thead th {\n",
       "        text-align: right;\n",
       "    }\n",
       "</style>\n",
       "<table border=\"1\" class=\"dataframe\">\n",
       "  <thead>\n",
       "    <tr style=\"text-align: right;\">\n",
       "      <th></th>\n",
       "      <th>videoId</th>\n",
       "      <th>commentId</th>\n",
       "      <th>comment</th>\n",
       "      <th>authorName</th>\n",
       "      <th>authorId</th>\n",
       "      <th>likeCount</th>\n",
       "      <th>date</th>\n",
       "      <th>totalReplyCount</th>\n",
       "    </tr>\n",
       "  </thead>\n",
       "  <tbody>\n",
       "    <tr>\n",
       "      <th>4524</th>\n",
       "      <td>mH0oCDa74tE</td>\n",
       "      <td>UgyjI0Kyz8RtVxleFdJ4AaABAg</td>\n",
       "      <td>YOU SHOULD HAVE MENTIONED Ãvariste Galois</td>\n",
       "      <td>NaN</td>\n",
       "      <td>NaN</td>\n",
       "      <td>NaN</td>\n",
       "      <td>NaN</td>\n",
       "      <td>NaN</td>\n",
       "    </tr>\n",
       "    <tr>\n",
       "      <th>6452</th>\n",
       "      <td>wTJI_WuZSwE</td>\n",
       "      <td>UgxFYCDlW952RPcytV54AaABAg</td>\n",
       "      <td>Now what kind of wedding do you go to and leav...</td>\n",
       "      <td>NaN</td>\n",
       "      <td>NaN</td>\n",
       "      <td>NaN</td>\n",
       "      <td>NaN</td>\n",
       "      <td>NaN</td>\n",
       "    </tr>\n",
       "    <tr>\n",
       "      <th>16503</th>\n",
       "      <td>ppWPuXsnf1Q</td>\n",
       "      <td>UgyLDR00KL_t_e7SV7F4AaABAg</td>\n",
       "      <td>Oh my god You are so</td>\n",
       "      <td>NaN</td>\n",
       "      <td>NaN</td>\n",
       "      <td>NaN</td>\n",
       "      <td>NaN</td>\n",
       "      <td>NaN</td>\n",
       "    </tr>\n",
       "    <tr>\n",
       "      <th>25856</th>\n",
       "      <td>Kas0tIxDvrg</td>\n",
       "      <td>UgyjAiZ_E_U7mRRrpCJ4AaABAg</td>\n",
       "      <td>7993 is logarithmically closer to fifty millio...</td>\n",
       "      <td>NaN</td>\n",
       "      <td>NaN</td>\n",
       "      <td>NaN</td>\n",
       "      <td>NaN</td>\n",
       "      <td>NaN</td>\n",
       "    </tr>\n",
       "    <tr>\n",
       "      <th>35648</th>\n",
       "      <td>M64HUIJFTZM</td>\n",
       "      <td>UgwB5utB6kn4Xvp4JbF4AaABAg</td>\n",
       "      <td>Welcome to 3Blue1Brown</td>\n",
       "      <td>NaN</td>\n",
       "      <td>NaN</td>\n",
       "      <td>NaN</td>\n",
       "      <td>NaN</td>\n",
       "      <td>NaN</td>\n",
       "    </tr>\n",
       "  </tbody>\n",
       "</table>\n",
       "</div>"
      ],
      "text/plain": [
       "           videoId                   commentId  \\\n",
       "4524   mH0oCDa74tE  UgyjI0Kyz8RtVxleFdJ4AaABAg   \n",
       "6452   wTJI_WuZSwE  UgxFYCDlW952RPcytV54AaABAg   \n",
       "16503  ppWPuXsnf1Q  UgyLDR00KL_t_e7SV7F4AaABAg   \n",
       "25856  Kas0tIxDvrg  UgyjAiZ_E_U7mRRrpCJ4AaABAg   \n",
       "35648  M64HUIJFTZM  UgwB5utB6kn4Xvp4JbF4AaABAg   \n",
       "\n",
       "                                                 comment authorName authorId  \\\n",
       "4524          YOU SHOULD HAVE MENTIONED Ãvariste Galois        NaN      NaN   \n",
       "6452   Now what kind of wedding do you go to and leav...        NaN      NaN   \n",
       "16503                              Oh my god You are so         NaN      NaN   \n",
       "25856  7993 is logarithmically closer to fifty millio...        NaN      NaN   \n",
       "35648                             Welcome to 3Blue1Brown        NaN      NaN   \n",
       "\n",
       "       likeCount date  totalReplyCount  \n",
       "4524         NaN  NaN              NaN  \n",
       "6452         NaN  NaN              NaN  \n",
       "16503        NaN  NaN              NaN  \n",
       "25856        NaN  NaN              NaN  \n",
       "35648        NaN  NaN              NaN  "
      ]
     },
     "execution_count": 17,
     "metadata": {},
     "output_type": "execute_result"
    }
   ],
   "source": [
    "df[df['authorName'].isna() == True].head()"
   ]
  },
  {
   "cell_type": "code",
   "execution_count": 22,
   "metadata": {},
   "outputs": [],
   "source": [
    "df = df.dropna()"
   ]
  },
  {
   "cell_type": "code",
   "execution_count": 23,
   "metadata": {},
   "outputs": [
    {
     "name": "stdout",
     "output_type": "stream",
     "text": [
      "<class 'pandas.core.frame.DataFrame'>\n",
      "Int64Index: 166939 entries, 0 to 166970\n",
      "Data columns (total 8 columns):\n",
      " #   Column           Non-Null Count   Dtype  \n",
      "---  ------           --------------   -----  \n",
      " 0   videoId          166939 non-null  object \n",
      " 1   commentId        166939 non-null  object \n",
      " 2   comment          166939 non-null  object \n",
      " 3   authorName       166939 non-null  object \n",
      " 4   authorId         166939 non-null  object \n",
      " 5   likeCount        166939 non-null  float64\n",
      " 6   date             166939 non-null  object \n",
      " 7   totalReplyCount  166939 non-null  float64\n",
      "dtypes: float64(2), object(6)\n",
      "memory usage: 11.5+ MB\n"
     ]
    }
   ],
   "source": [
    "df.info()"
   ]
  },
  {
   "cell_type": "code",
   "execution_count": 24,
   "metadata": {},
   "outputs": [
    {
     "data": {
      "text/plain": [
       "videoId            0\n",
       "commentId          0\n",
       "comment            0\n",
       "authorName         0\n",
       "authorId           0\n",
       "likeCount          0\n",
       "date               0\n",
       "totalReplyCount    0\n",
       "dtype: int64"
      ]
     },
     "execution_count": 24,
     "metadata": {},
     "output_type": "execute_result"
    }
   ],
   "source": [
    "df.isna().sum()"
   ]
  },
  {
   "cell_type": "markdown",
   "metadata": {},
   "source": [
    "All the missing values are no longer in our dataset, and we can save this into our existing youtube_comments.csv file."
   ]
  },
  {
   "cell_type": "code",
   "execution_count": 25,
   "metadata": {},
   "outputs": [],
   "source": [
    "df.to_csv('data/youtube_comments.csv',index=False,encoding='utf-8')"
   ]
  }
 ],
 "metadata": {
  "kernelspec": {
   "display_name": "Python 3",
   "language": "python",
   "name": "python3"
  },
  "language_info": {
   "codemirror_mode": {
    "name": "ipython",
    "version": 3
   },
   "file_extension": ".py",
   "mimetype": "text/x-python",
   "name": "python",
   "nbconvert_exporter": "python",
   "pygments_lexer": "ipython3",
   "version": "3.8.3"
  }
 },
 "nbformat": 4,
 "nbformat_minor": 4
}
