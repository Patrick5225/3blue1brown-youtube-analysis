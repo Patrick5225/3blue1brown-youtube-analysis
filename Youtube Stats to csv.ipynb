{
 "cells": [
  {
   "cell_type": "code",
   "execution_count": 1,
   "metadata": {},
   "outputs": [],
   "source": [
    "import json\n",
    "import pandas as pd"
   ]
  },
  {
   "cell_type": "code",
   "execution_count": 2,
   "metadata": {},
   "outputs": [],
   "source": [
    "file = \"data/3blue1brown.json\"\n",
    "data = None\n",
    "with open(file, 'r') as f:\n",
    "    data = json.load(f)\n",
    "    \n",
    "channel_id, stats = data.popitem()"
   ]
  },
  {
   "cell_type": "code",
   "execution_count": 3,
   "metadata": {},
   "outputs": [
    {
     "data": {
      "text/plain": [
       "{'viewCount': '182107313',\n",
       " 'subscriberCount': '3470000',\n",
       " 'hiddenSubscriberCount': False,\n",
       " 'videoCount': '112'}"
      ]
     },
     "execution_count": 3,
     "metadata": {},
     "output_type": "execute_result"
    }
   ],
   "source": [
    "stats['channel_statistics']"
   ]
  },
  {
   "cell_type": "code",
   "execution_count": 4,
   "metadata": {},
   "outputs": [],
   "source": [
    "# intialize empty lists for storing video information\n",
    "videoId = []\n",
    "title = []\n",
    "publishDate = []\n",
    "description = []\n",
    "viewCount = []\n",
    "likeCount = []\n",
    "dislikeCount = []\n",
    "commentCount = []\n",
    "\n",
    "for video in stats['video_data'].items():\n",
    "    # for each video, add data to corresponding list\n",
    "    videoId.append(video[0])\n",
    "    title.append(video[1]['title'])\n",
    "    publishDate.append(video[1]['publishedAt'])\n",
    "    description.append(video[1]['description'].partition(\"\\n\")[0]) # extract first line of video description\n",
    "    viewCount.append(video[1]['viewCount'])\n",
    "    likeCount.append(video[1]['likeCount'])\n",
    "    dislikeCount.append(video[1]['dislikeCount'])\n",
    "    commentCount.append(video[1]['commentCount'])"
   ]
  },
  {
   "cell_type": "code",
   "execution_count": 5,
   "metadata": {},
   "outputs": [],
   "source": [
    "# put lists into rows and convert as a dataframe\n",
    "df = pd.DataFrame(list(zip(*[videoId,title,publishDate,description,viewCount,likeCount,dislikeCount,commentCount])))\n",
    "\n",
    "# renaming columns\n",
    "df.columns = ['videoId','title','publishDate','description','viewCount','likeCount','dislikeCount','commentCount']"
   ]
  },
  {
   "cell_type": "code",
   "execution_count": 6,
   "metadata": {},
   "outputs": [
    {
     "data": {
      "text/html": [
       "<div>\n",
       "<style scoped>\n",
       "    .dataframe tbody tr th:only-of-type {\n",
       "        vertical-align: middle;\n",
       "    }\n",
       "\n",
       "    .dataframe tbody tr th {\n",
       "        vertical-align: top;\n",
       "    }\n",
       "\n",
       "    .dataframe thead th {\n",
       "        text-align: right;\n",
       "    }\n",
       "</style>\n",
       "<table border=\"1\" class=\"dataframe\">\n",
       "  <thead>\n",
       "    <tr style=\"text-align: right;\">\n",
       "      <th></th>\n",
       "      <th>videoId</th>\n",
       "      <th>title</th>\n",
       "      <th>publishDate</th>\n",
       "      <th>description</th>\n",
       "      <th>viewCount</th>\n",
       "      <th>likeCount</th>\n",
       "      <th>dislikeCount</th>\n",
       "      <th>commentCount</th>\n",
       "    </tr>\n",
       "  </thead>\n",
       "  <tbody>\n",
       "    <tr>\n",
       "      <th>0</th>\n",
       "      <td>lG4VkPoG3ko</td>\n",
       "      <td>The medical test paradox: Can redesigning Baye...</td>\n",
       "      <td>2020-12-22T17:42:00Z</td>\n",
       "      <td>About Likelihood Ratios, also sometimes called...</td>\n",
       "      <td>467462</td>\n",
       "      <td>28056</td>\n",
       "      <td>184</td>\n",
       "      <td>1986</td>\n",
       "    </tr>\n",
       "    <tr>\n",
       "      <th>1</th>\n",
       "      <td>b3NxrZOu_CE</td>\n",
       "      <td>Hamming codes part 2, the elegance of it all</td>\n",
       "      <td>2020-09-04T15:36:24Z</td>\n",
       "      <td>Part 1: https://youtu.be/X8jsijhllIA</td>\n",
       "      <td>401937</td>\n",
       "      <td>21380</td>\n",
       "      <td>99</td>\n",
       "      <td>1311</td>\n",
       "    </tr>\n",
       "    <tr>\n",
       "      <th>2</th>\n",
       "      <td>X8jsijhllIA</td>\n",
       "      <td>Hamming codes and error correction</td>\n",
       "      <td>2020-09-04T15:32:50Z</td>\n",
       "      <td>A discovery-oriented introduction to error cor...</td>\n",
       "      <td>681626</td>\n",
       "      <td>33449</td>\n",
       "      <td>197</td>\n",
       "      <td>1408</td>\n",
       "    </tr>\n",
       "    <tr>\n",
       "      <th>3</th>\n",
       "      <td>mH0oCDa74tE</td>\n",
       "      <td>Group theory and the 196,883-dimensional monster</td>\n",
       "      <td>2020-08-19T14:01:39Z</td>\n",
       "      <td>An introduction to group theory, and the monst...</td>\n",
       "      <td>1319809</td>\n",
       "      <td>69545</td>\n",
       "      <td>662</td>\n",
       "      <td>4374</td>\n",
       "    </tr>\n",
       "    <tr>\n",
       "      <th>4</th>\n",
       "      <td>wTJI_WuZSwE</td>\n",
       "      <td>The impossible chessboard puzzle</td>\n",
       "      <td>2020-07-05T18:50:36Z</td>\n",
       "      <td>An information puzzle with an interesting twist</td>\n",
       "      <td>725076</td>\n",
       "      <td>25560</td>\n",
       "      <td>468</td>\n",
       "      <td>1751</td>\n",
       "    </tr>\n",
       "  </tbody>\n",
       "</table>\n",
       "</div>"
      ],
      "text/plain": [
       "       videoId                                              title  \\\n",
       "0  lG4VkPoG3ko  The medical test paradox: Can redesigning Baye...   \n",
       "1  b3NxrZOu_CE       Hamming codes part 2, the elegance of it all   \n",
       "2  X8jsijhllIA                 Hamming codes and error correction   \n",
       "3  mH0oCDa74tE   Group theory and the 196,883-dimensional monster   \n",
       "4  wTJI_WuZSwE                   The impossible chessboard puzzle   \n",
       "\n",
       "            publishDate                                        description  \\\n",
       "0  2020-12-22T17:42:00Z  About Likelihood Ratios, also sometimes called...   \n",
       "1  2020-09-04T15:36:24Z               Part 1: https://youtu.be/X8jsijhllIA   \n",
       "2  2020-09-04T15:32:50Z  A discovery-oriented introduction to error cor...   \n",
       "3  2020-08-19T14:01:39Z  An introduction to group theory, and the monst...   \n",
       "4  2020-07-05T18:50:36Z    An information puzzle with an interesting twist   \n",
       "\n",
       "  viewCount likeCount dislikeCount commentCount  \n",
       "0    467462     28056          184         1986  \n",
       "1    401937     21380           99         1311  \n",
       "2    681626     33449          197         1408  \n",
       "3   1319809     69545          662         4374  \n",
       "4    725076     25560          468         1751  "
      ]
     },
     "execution_count": 6,
     "metadata": {},
     "output_type": "execute_result"
    }
   ],
   "source": [
    "df.head()"
   ]
  },
  {
   "cell_type": "code",
   "execution_count": 7,
   "metadata": {},
   "outputs": [],
   "source": [
    "df['publishDate'] = df['publishDate'].str.replace(\"T\",\" \").str.replace(\"Z\",\"\")"
   ]
  },
  {
   "cell_type": "code",
   "execution_count": 8,
   "metadata": {},
   "outputs": [
    {
     "data": {
      "text/html": [
       "<div>\n",
       "<style scoped>\n",
       "    .dataframe tbody tr th:only-of-type {\n",
       "        vertical-align: middle;\n",
       "    }\n",
       "\n",
       "    .dataframe tbody tr th {\n",
       "        vertical-align: top;\n",
       "    }\n",
       "\n",
       "    .dataframe thead th {\n",
       "        text-align: right;\n",
       "    }\n",
       "</style>\n",
       "<table border=\"1\" class=\"dataframe\">\n",
       "  <thead>\n",
       "    <tr style=\"text-align: right;\">\n",
       "      <th></th>\n",
       "      <th>videoId</th>\n",
       "      <th>title</th>\n",
       "      <th>publishDate</th>\n",
       "      <th>description</th>\n",
       "      <th>viewCount</th>\n",
       "      <th>likeCount</th>\n",
       "      <th>dislikeCount</th>\n",
       "      <th>commentCount</th>\n",
       "    </tr>\n",
       "  </thead>\n",
       "  <tbody>\n",
       "    <tr>\n",
       "      <th>0</th>\n",
       "      <td>lG4VkPoG3ko</td>\n",
       "      <td>The medical test paradox: Can redesigning Baye...</td>\n",
       "      <td>2020-12-22 17:42:00</td>\n",
       "      <td>About Likelihood Ratios, also sometimes called...</td>\n",
       "      <td>467462</td>\n",
       "      <td>28056</td>\n",
       "      <td>184</td>\n",
       "      <td>1986</td>\n",
       "    </tr>\n",
       "    <tr>\n",
       "      <th>1</th>\n",
       "      <td>b3NxrZOu_CE</td>\n",
       "      <td>Hamming codes part 2, the elegance of it all</td>\n",
       "      <td>2020-09-04 15:36:24</td>\n",
       "      <td>Part 1: https://youtu.be/X8jsijhllIA</td>\n",
       "      <td>401937</td>\n",
       "      <td>21380</td>\n",
       "      <td>99</td>\n",
       "      <td>1311</td>\n",
       "    </tr>\n",
       "    <tr>\n",
       "      <th>2</th>\n",
       "      <td>X8jsijhllIA</td>\n",
       "      <td>Hamming codes and error correction</td>\n",
       "      <td>2020-09-04 15:32:50</td>\n",
       "      <td>A discovery-oriented introduction to error cor...</td>\n",
       "      <td>681626</td>\n",
       "      <td>33449</td>\n",
       "      <td>197</td>\n",
       "      <td>1408</td>\n",
       "    </tr>\n",
       "    <tr>\n",
       "      <th>3</th>\n",
       "      <td>mH0oCDa74tE</td>\n",
       "      <td>Group theory and the 196,883-dimensional monster</td>\n",
       "      <td>2020-08-19 14:01:39</td>\n",
       "      <td>An introduction to group theory, and the monst...</td>\n",
       "      <td>1319809</td>\n",
       "      <td>69545</td>\n",
       "      <td>662</td>\n",
       "      <td>4374</td>\n",
       "    </tr>\n",
       "    <tr>\n",
       "      <th>4</th>\n",
       "      <td>wTJI_WuZSwE</td>\n",
       "      <td>The impossible chessboard puzzle</td>\n",
       "      <td>2020-07-05 18:50:36</td>\n",
       "      <td>An information puzzle with an interesting twist</td>\n",
       "      <td>725076</td>\n",
       "      <td>25560</td>\n",
       "      <td>468</td>\n",
       "      <td>1751</td>\n",
       "    </tr>\n",
       "  </tbody>\n",
       "</table>\n",
       "</div>"
      ],
      "text/plain": [
       "       videoId                                              title  \\\n",
       "0  lG4VkPoG3ko  The medical test paradox: Can redesigning Baye...   \n",
       "1  b3NxrZOu_CE       Hamming codes part 2, the elegance of it all   \n",
       "2  X8jsijhllIA                 Hamming codes and error correction   \n",
       "3  mH0oCDa74tE   Group theory and the 196,883-dimensional monster   \n",
       "4  wTJI_WuZSwE                   The impossible chessboard puzzle   \n",
       "\n",
       "           publishDate                                        description  \\\n",
       "0  2020-12-22 17:42:00  About Likelihood Ratios, also sometimes called...   \n",
       "1  2020-09-04 15:36:24               Part 1: https://youtu.be/X8jsijhllIA   \n",
       "2  2020-09-04 15:32:50  A discovery-oriented introduction to error cor...   \n",
       "3  2020-08-19 14:01:39  An introduction to group theory, and the monst...   \n",
       "4  2020-07-05 18:50:36    An information puzzle with an interesting twist   \n",
       "\n",
       "  viewCount likeCount dislikeCount commentCount  \n",
       "0    467462     28056          184         1986  \n",
       "1    401937     21380           99         1311  \n",
       "2    681626     33449          197         1408  \n",
       "3   1319809     69545          662         4374  \n",
       "4    725076     25560          468         1751  "
      ]
     },
     "execution_count": 8,
     "metadata": {},
     "output_type": "execute_result"
    }
   ],
   "source": [
    "df.head()"
   ]
  },
  {
   "cell_type": "code",
   "execution_count": 9,
   "metadata": {},
   "outputs": [],
   "source": [
    "df.to_csv('data/youtube_stats.csv', index=False)"
   ]
  },
  {
   "cell_type": "code",
   "execution_count": null,
   "metadata": {},
   "outputs": [],
   "source": []
  }
 ],
 "metadata": {
  "kernelspec": {
   "display_name": "Python 3",
   "language": "python",
   "name": "python3"
  },
  "language_info": {
   "codemirror_mode": {
    "name": "ipython",
    "version": 3
   },
   "file_extension": ".py",
   "mimetype": "text/x-python",
   "name": "python",
   "nbconvert_exporter": "python",
   "pygments_lexer": "ipython3",
   "version": "3.8.3"
  }
 },
 "nbformat": 4,
 "nbformat_minor": 4
}
